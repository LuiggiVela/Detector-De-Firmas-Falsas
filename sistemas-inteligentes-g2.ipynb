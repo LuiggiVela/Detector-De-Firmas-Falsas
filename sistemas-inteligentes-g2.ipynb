{
 "cells": [
  {
   "cell_type": "markdown",
   "id": "2b370fa7",
   "metadata": {
    "papermill": {
     "duration": 0.006044,
     "end_time": "2024-11-25T01:01:41.760967",
     "exception": false,
     "start_time": "2024-11-25T01:01:41.754923",
     "status": "completed"
    },
    "tags": []
   },
   "source": [
    "# Librerias"
   ]
  },
  {
   "cell_type": "code",
   "execution_count": 1,
   "id": "cd521667",
   "metadata": {
    "execution": {
     "iopub.execute_input": "2024-11-25T01:01:41.772190Z",
     "iopub.status.busy": "2024-11-25T01:01:41.771763Z",
     "iopub.status.idle": "2024-11-25T01:01:51.240867Z",
     "shell.execute_reply": "2024-11-25T01:01:51.239691Z"
    },
    "papermill": {
     "duration": 9.477666,
     "end_time": "2024-11-25T01:01:51.243497",
     "exception": false,
     "start_time": "2024-11-25T01:01:41.765831",
     "status": "completed"
    },
    "tags": []
   },
   "outputs": [],
   "source": [
    "import numpy as np\n",
    "import pandas as pd\n",
    "import matplotlib.pyplot as plt\n",
    "import cv2\n",
    "import os\n",
    "from sklearn.model_selection import train_test_split\n",
    "import tensorflow as tf\n",
    "from tensorflow.keras.layers import Conv2D, MaxPooling2D, Dense, Flatten, Dropout\n",
    "from tensorflow.keras.models import Sequential\n",
    "from tensorflow.keras.preprocessing.image import ImageDataGenerator\n",
    "from tensorflow.keras.applications import VGG16"
   ]
  },
  {
   "cell_type": "markdown",
   "id": "7916d17e",
   "metadata": {
    "papermill": {
     "duration": 0.004168,
     "end_time": "2024-11-25T01:01:51.252213",
     "exception": false,
     "start_time": "2024-11-25T01:01:51.248045",
     "status": "completed"
    },
    "tags": []
   },
   "source": [
    "# Cargar los conjuntos de datos de firmas reales y falsificados"
   ]
  },
  {
   "cell_type": "code",
   "execution_count": 2,
   "id": "cbf6fc1c",
   "metadata": {
    "execution": {
     "iopub.execute_input": "2024-11-25T01:01:51.263705Z",
     "iopub.status.busy": "2024-11-25T01:01:51.262525Z",
     "iopub.status.idle": "2024-11-25T01:01:59.213863Z",
     "shell.execute_reply": "2024-11-25T01:01:59.212565Z"
    },
    "papermill": {
     "duration": 7.960026,
     "end_time": "2024-11-25T01:01:59.216606",
     "exception": false,
     "start_time": "2024-11-25T01:01:51.256580",
     "status": "completed"
    },
    "tags": []
   },
   "outputs": [],
   "source": [
    "real_path = '/kaggle/input/stcet-teachers-signature/dataset/orininal dataset'\n",
    "forge_path = '/kaggle/input/stcet-teachers-signature/dataset/fraud dataset'\n",
    "\n",
    "# Consolidar las imágenes de todas las carpetas\n",
    "base_path = '/kaggle/input/handwritten-signatures/Dataset_Signature_Final/Dataset'\n",
    "\n",
    "# Tamaño de imagenes y normalización de datos\n",
    "img_size = (224, 224)  # Modificado para que coincida con VGG16\n",
    "\n",
    "real_images = []\n",
    "forge_images = []\n",
    "\n",
    "for folder in ['dataset1', 'dataset2', 'dataset3', 'dataset4']:\n",
    "    real_path = os.path.join(base_path, folder, 'real')\n",
    "    if (folder == 'dataset4'):\n",
    "      real_path = os.path.join(base_path, folder, 'real1')\n",
    "    forge_path = os.path.join(base_path, folder, 'forge')\n",
    "\n",
    "    for img_name in os.listdir(real_path):\n",
    "        img = cv2.imread(os.path.join(real_path, img_name), cv2.IMREAD_GRAYSCALE)\n",
    "        img = cv2.resize(img, img_size)\n",
    "        real_images.append(img)\n",
    "\n",
    "    for img_name in os.listdir(forge_path):\n",
    "        img = cv2.imread(os.path.join(forge_path, img_name), cv2.IMREAD_GRAYSCALE)\n",
    "        img = cv2.resize(img, img_size)\n",
    "        forge_images.append(img)"
   ]
  },
  {
   "cell_type": "markdown",
   "id": "70ecb7fd",
   "metadata": {
    "papermill": {
     "duration": 0.004162,
     "end_time": "2024-11-25T01:01:59.225374",
     "exception": false,
     "start_time": "2024-11-25T01:01:59.221212",
     "status": "completed"
    },
    "tags": []
   },
   "source": [
    "# Normalización de los datos"
   ]
  },
  {
   "cell_type": "code",
   "execution_count": 3,
   "id": "4a63d617",
   "metadata": {
    "execution": {
     "iopub.execute_input": "2024-11-25T01:01:59.235979Z",
     "iopub.status.busy": "2024-11-25T01:01:59.235589Z",
     "iopub.status.idle": "2024-11-25T01:01:59.322603Z",
     "shell.execute_reply": "2024-11-25T01:01:59.321358Z"
    },
    "papermill": {
     "duration": 0.095419,
     "end_time": "2024-11-25T01:01:59.325262",
     "exception": false,
     "start_time": "2024-11-25T01:01:59.229843",
     "status": "completed"
    },
    "tags": []
   },
   "outputs": [],
   "source": [
    "# Convertir a numpy arrays y normalizar\n",
    "real_images = np.array(real_images).astype('float32') / 255.0\n",
    "forge_images = np.array(forge_images).astype('float32') / 255.0"
   ]
  },
  {
   "cell_type": "markdown",
   "id": "e52c5047",
   "metadata": {
    "papermill": {
     "duration": 0.00412,
     "end_time": "2024-11-25T01:01:59.333935",
     "exception": false,
     "start_time": "2024-11-25T01:01:59.329815",
     "status": "completed"
    },
    "tags": []
   },
   "source": [
    "# Crea etiquetas para las firmas reales y falsificadas."
   ]
  },
  {
   "cell_type": "code",
   "execution_count": 4,
   "id": "bb57aa54",
   "metadata": {
    "execution": {
     "iopub.execute_input": "2024-11-25T01:01:59.344803Z",
     "iopub.status.busy": "2024-11-25T01:01:59.343671Z",
     "iopub.status.idle": "2024-11-25T01:01:59.420719Z",
     "shell.execute_reply": "2024-11-25T01:01:59.419398Z"
    },
    "papermill": {
     "duration": 0.085251,
     "end_time": "2024-11-25T01:01:59.423450",
     "exception": false,
     "start_time": "2024-11-25T01:01:59.338199",
     "status": "completed"
    },
    "tags": []
   },
   "outputs": [],
   "source": [
    "num_real_images = len(real_images)\n",
    "num_forge_images = len(forge_images)\n",
    "\n",
    "# Crear etiquetas para el conjunto de datos\n",
    "real_labels = np.zeros(num_real_images, dtype=int)\n",
    "forge_labels = np.ones(num_forge_images, dtype=int)\n",
    "\n",
    "# Concatenar imágenes y etiquetas\n",
    "X = np.concatenate((real_images, forge_images), axis=0)\n",
    "y = np.concatenate((real_labels, forge_labels), axis=0)"
   ]
  },
  {
   "cell_type": "markdown",
   "id": "3559c39a",
   "metadata": {
    "papermill": {
     "duration": 0.004145,
     "end_time": "2024-11-25T01:01:59.432533",
     "exception": false,
     "start_time": "2024-11-25T01:01:59.428388",
     "status": "completed"
    },
    "tags": []
   },
   "source": [
    "# División de las imágenes de entrenamiento y prueba"
   ]
  },
  {
   "cell_type": "code",
   "execution_count": 5,
   "id": "d1915af1",
   "metadata": {
    "execution": {
     "iopub.execute_input": "2024-11-25T01:01:59.443874Z",
     "iopub.status.busy": "2024-11-25T01:01:59.442529Z",
     "iopub.status.idle": "2024-11-25T01:01:59.504365Z",
     "shell.execute_reply": "2024-11-25T01:01:59.503100Z"
    },
    "papermill": {
     "duration": 0.070397,
     "end_time": "2024-11-25T01:01:59.507317",
     "exception": false,
     "start_time": "2024-11-25T01:01:59.436920",
     "status": "completed"
    },
    "tags": []
   },
   "outputs": [],
   "source": [
    "X_train, X_test, y_train, y_test = train_test_split(X, y, test_size=0.2, random_state=42)"
   ]
  },
  {
   "cell_type": "markdown",
   "id": "5ceaacdb",
   "metadata": {
    "papermill": {
     "duration": 0.004344,
     "end_time": "2024-11-25T01:01:59.516434",
     "exception": false,
     "start_time": "2024-11-25T01:01:59.512090",
     "status": "completed"
    },
    "tags": []
   },
   "source": [
    "# Añadir Canales y Redimensionar"
   ]
  },
  {
   "cell_type": "code",
   "execution_count": 6,
   "id": "0174507b",
   "metadata": {
    "execution": {
     "iopub.execute_input": "2024-11-25T01:01:59.528060Z",
     "iopub.status.busy": "2024-11-25T01:01:59.527655Z",
     "iopub.status.idle": "2024-11-25T01:02:00.100546Z",
     "shell.execute_reply": "2024-11-25T01:02:00.099319Z"
    },
    "papermill": {
     "duration": 0.581127,
     "end_time": "2024-11-25T01:02:00.103003",
     "exception": false,
     "start_time": "2024-11-25T01:01:59.521876",
     "status": "completed"
    },
    "tags": []
   },
   "outputs": [],
   "source": [
    "# Ajustar el formato de datos para VGG16 (añadir canales y redimensionar)\n",
    "X_train = np.expand_dims(X_train, axis=-1)\n",
    "X_test = np.expand_dims(X_test, axis=-1)\n",
    "X_train = np.repeat(X_train, 3, axis=-1)  # Convertir a RGB\n",
    "X_test = np.repeat(X_test, 3, axis=-1)"
   ]
  },
  {
   "cell_type": "markdown",
   "id": "3f520a8a",
   "metadata": {
    "papermill": {
     "duration": 0.004239,
     "end_time": "2024-11-25T01:02:00.111904",
     "exception": false,
     "start_time": "2024-11-25T01:02:00.107665",
     "status": "completed"
    },
    "tags": []
   },
   "source": [
    "# Configuración de Data Augmentation"
   ]
  },
  {
   "cell_type": "code",
   "execution_count": 7,
   "id": "8653bf14",
   "metadata": {
    "execution": {
     "iopub.execute_input": "2024-11-25T01:02:00.122651Z",
     "iopub.status.busy": "2024-11-25T01:02:00.122245Z",
     "iopub.status.idle": "2024-11-25T01:02:00.129698Z",
     "shell.execute_reply": "2024-11-25T01:02:00.128571Z"
    },
    "papermill": {
     "duration": 0.015368,
     "end_time": "2024-11-25T01:02:00.131787",
     "exception": false,
     "start_time": "2024-11-25T01:02:00.116419",
     "status": "completed"
    },
    "tags": []
   },
   "outputs": [],
   "source": [
    "#train_datagen = ImageDataGenerator(\n",
    "#    shear_range=10,\n",
    "#    zoom_range=0.2,\n",
    "#    horizontal_flip=True,\n",
    "#    preprocessing_function=lambda x: x / 255.0\n",
    "#)\n",
    "train_datagen = ImageDataGenerator(\n",
    "    rotation_range=20,  # Rotaciones aleatorias\n",
    "    width_shift_range=0.2,  # Desplazamientos horizontales\n",
    "    height_shift_range=0.2,  # Desplazamientos verticales\n",
    "    shear_range=10,  # Transformaciones de corte\n",
    "    zoom_range=0.2,  # Zoom aleatorio\n",
    "    horizontal_flip=True,\n",
    "    fill_mode='nearest',\n",
    "    preprocessing_function=lambda x: x / 255.0  # Normalizar\n",
    ")\n",
    " \n",
    "test_datagen = ImageDataGenerator(\n",
    "    preprocessing_function=lambda x: x / 255.0\n",
    ")\n",
    "\n",
    "train_generator = train_datagen.flow(X_train, y_train, batch_size=32)\n",
    "test_generator = test_datagen.flow(X_test, y_test, batch_size=32, shuffle=False)"
   ]
  },
  {
   "cell_type": "markdown",
   "id": "200a0744",
   "metadata": {
    "papermill": {
     "duration": 0.004154,
     "end_time": "2024-11-25T01:02:00.140629",
     "exception": false,
     "start_time": "2024-11-25T01:02:00.136475",
     "status": "completed"
    },
    "tags": []
   },
   "source": [
    "# Implementación del Modelo VGG16"
   ]
  },
  {
   "cell_type": "code",
   "execution_count": 8,
   "id": "3e38cedb",
   "metadata": {
    "execution": {
     "iopub.execute_input": "2024-11-25T01:02:00.152061Z",
     "iopub.status.busy": "2024-11-25T01:02:00.150963Z",
     "iopub.status.idle": "2024-11-25T01:02:04.037108Z",
     "shell.execute_reply": "2024-11-25T01:02:04.035825Z"
    },
    "papermill": {
     "duration": 3.894985,
     "end_time": "2024-11-25T01:02:04.040025",
     "exception": false,
     "start_time": "2024-11-25T01:02:00.145040",
     "status": "completed"
    },
    "tags": []
   },
   "outputs": [
    {
     "name": "stdout",
     "output_type": "stream",
     "text": [
      "Downloading data from https://storage.googleapis.com/tensorflow/keras-applications/vgg16/vgg16_weights_tf_dim_ordering_tf_kernels_notop.h5\n",
      "58889256/58889256 [==============================] - 3s 0us/step\n"
     ]
    }
   ],
   "source": [
    "from tensorflow.keras.models import Sequential\n",
    "from tensorflow.keras.layers import Dense, Flatten\n",
    "from tensorflow.keras.applications import VGG16\n",
    "\n",
    "# Inicializa VGG16 preentrenado sin las capas superiores\n",
    "vgg = VGG16(include_top=False, input_shape=(224, 224, 3))\n",
    "\n",
    "# Construcción del modelo\n",
    "model_vgg = Sequential()\n",
    "model_vgg.add(vgg)\n",
    "model_vgg.add(Flatten())  # Aplana la salida de VGG16\n",
    "model_vgg.add(Dense(256, activation='relu'))  # Más neuronas para aprender patrones\n",
    "model_vgg.add(Dropout(0.5))  # Evitar sobreajuste\n",
    "model_vgg.add(Dense(1, activation=\"sigmoid\"))  # Capa de salida para clasificación binaria\n",
    "\n",
    "# Congela las capas de VGG16 para no entrenarlas\n",
    "for layer in vgg.layers:\n",
    "    layer.trainable = False\n",
    "\n",
    "# Descongela parcialmente las últimas capas de VGG16 para aprender características específicas del conjunto de datos\n",
    "for layer in vgg.layers[-4:]:  # Últimas 4 capas convolucionales\n",
    "    layer.trainable = True"
   ]
  },
  {
   "cell_type": "code",
   "execution_count": 9,
   "id": "6f7dafbb",
   "metadata": {
    "execution": {
     "iopub.execute_input": "2024-11-25T01:02:04.055962Z",
     "iopub.status.busy": "2024-11-25T01:02:04.055551Z",
     "iopub.status.idle": "2024-11-25T01:02:04.266568Z",
     "shell.execute_reply": "2024-11-25T01:02:04.265255Z"
    },
    "papermill": {
     "duration": 0.222134,
     "end_time": "2024-11-25T01:02:04.269249",
     "exception": false,
     "start_time": "2024-11-25T01:02:04.047115",
     "status": "completed"
    },
    "tags": []
   },
   "outputs": [
    {
     "data": {
      "image/png": "[encoded data removed]",
      "text/plain": [
       "<IPython.core.display.Image object>"
      ]
     },
     "execution_count": 9,
     "metadata": {},
     "output_type": "execute_result"
    }
   ],
   "source": [
    "from keras.utils import plot_model\n",
    "plot_model(model_vgg)"
   ]
  },
  {
   "cell_type": "markdown",
   "id": "2d34da01",
   "metadata": {
    "papermill": {
     "duration": 0.006792,
     "end_time": "2024-11-25T01:02:04.283360",
     "exception": false,
     "start_time": "2024-11-25T01:02:04.276568",
     "status": "completed"
    },
    "tags": []
   },
   "source": [
    "# Compilación y Entrenamiento del Modelo"
   ]
  },
  {
   "cell_type": "code",
   "execution_count": 10,
   "id": "0c9def2a",
   "metadata": {
    "execution": {
     "iopub.execute_input": "2024-11-25T01:02:04.300556Z",
     "iopub.status.busy": "2024-11-25T01:02:04.299384Z",
     "iopub.status.idle": "2024-11-25T01:27:36.113881Z",
     "shell.execute_reply": "2024-11-25T01:27:36.112507Z"
    },
    "papermill": {
     "duration": 1531.839599,
     "end_time": "2024-11-25T01:27:36.130180",
     "exception": false,
     "start_time": "2024-11-25T01:02:04.290581",
     "status": "completed"
    },
    "tags": []
   },
   "outputs": [
    {
     "name": "stdout",
     "output_type": "stream",
     "text": [
      "Epoch 1/30\n",
      "18/18 [==============================] - 211s 12s/step - loss: 0.7667 - accuracy: 0.5208 - val_loss: 0.7204 - val_accuracy: 0.4306\n",
      "Epoch 2/30\n",
      "18/18 [==============================] - 209s 12s/step - loss: 0.7660 - accuracy: 0.4792 - val_loss: 0.7020 - val_accuracy: 0.4306\n",
      "Epoch 3/30\n",
      "18/18 [==============================] - 209s 12s/step - loss: 0.7265 - accuracy: 0.5122 - val_loss: 0.7064 - val_accuracy: 0.4306\n",
      "Epoch 4/30\n",
      "18/18 [==============================] - 213s 12s/step - loss: 0.7249 - accuracy: 0.5000 - val_loss: 0.7262 - val_accuracy: 0.4306\n",
      "Epoch 5/30\n",
      "18/18 [==============================] - 218s 12s/step - loss: 0.7166 - accuracy: 0.5069 - val_loss: 0.7856 - val_accuracy: 0.4306\n",
      "Epoch 6/30\n",
      "18/18 [==============================] - 210s 12s/step - loss: 0.7287 - accuracy: 0.4913 - val_loss: 0.7504 - val_accuracy: 0.4306\n",
      "Epoch 7/30\n",
      "18/18 [==============================] - 210s 12s/step - loss: 0.7112 - accuracy: 0.5017 - val_loss: 0.7112 - val_accuracy: 0.4306\n"
     ]
    }
   ],
   "source": [
    "from tensorflow.keras.optimizers import RMSprop\n",
    "from tensorflow.keras.callbacks import EarlyStopping\n",
    "\n",
    "# Compilación del modelo\n",
    "# Learning rate más bajo (learning_rate=1e-5), ya que modelos preentrenados suelen requerir una tasa de aprendizaje menor\n",
    "model_vgg.compile(\n",
    "    optimizer=RMSprop(learning_rate=1e-5), # Puedes elegir Adam, SGD o RMSprop\n",
    "    loss='binary_crossentropy', # Función de pérdida binaria\n",
    "    metrics=['accuracy']\n",
    ")\n",
    "\n",
    "# Callback para detener temprano si no hay mejoras\n",
    "early_stop = EarlyStopping(monitor='val_loss', patience=5, restore_best_weights=True)\n",
    "\n",
    "# Entrenamiento\n",
    "history = model_vgg.fit(\n",
    "    train_generator,\n",
    "    validation_data=test_generator,\n",
    "    epochs=30,\n",
    "    steps_per_epoch=len(train_generator),\n",
    "    validation_steps=len(test_generator),\n",
    "    callbacks=[early_stop]\n",
    ")"
   ]
  },
  {
   "cell_type": "markdown",
   "id": "326f9526",
   "metadata": {
    "papermill": {
     "duration": 0.014154,
     "end_time": "2024-11-25T01:27:36.158519",
     "exception": false,
     "start_time": "2024-11-25T01:27:36.144365",
     "status": "completed"
    },
    "tags": []
   },
   "source": [
    "# Evaluación del Modelo"
   ]
  },
  {
   "cell_type": "code",
   "execution_count": 11,
   "id": "7a50b013",
   "metadata": {
    "execution": {
     "iopub.execute_input": "2024-11-25T01:27:36.189761Z",
     "iopub.status.busy": "2024-11-25T01:27:36.188637Z",
     "iopub.status.idle": "2024-11-25T01:28:17.563036Z",
     "shell.execute_reply": "2024-11-25T01:28:17.561726Z"
    },
    "papermill": {
     "duration": 41.393354,
     "end_time": "2024-11-25T01:28:17.566093",
     "exception": false,
     "start_time": "2024-11-25T01:27:36.172739",
     "status": "completed"
    },
    "tags": []
   },
   "outputs": [
    {
     "name": "stdout",
     "output_type": "stream",
     "text": [
      "5/5 [==============================] - 35s 7s/step - loss: 0.7020 - accuracy: 0.4306\n",
      "Validation Loss: 0.7019927501678467\n",
      "Validation Accuracy: 0.4305555522441864\n"
     ]
    },
    {
     "data": {
      "image/png": "[encoded data removed]",
      "text/plain": [
       "<Figure size 1200x500 with 2 Axes>"
      ]
     },
     "metadata": {},
     "output_type": "display_data"
    }
   ],
   "source": [
    "# Evaluación con el conjunto de prueba\n",
    "val_loss, val_acc = model_vgg.evaluate(test_generator)\n",
    "print(\"Validation Loss:\", val_loss)\n",
    "print(\"Validation Accuracy:\", val_acc)\n",
    "\n",
    "# Graficar precisión y pérdida del entrenamiento\n",
    "plt.figure(figsize=(12, 5))\n",
    "plt.subplot(1, 2, 1)\n",
    "plt.plot(history.history['accuracy'], label='Train')\n",
    "plt.plot(history.history['val_accuracy'], label='Validation')\n",
    "plt.title('Model Accuracy')\n",
    "plt.xlabel('Epoch')\n",
    "plt.ylabel('Accuracy')\n",
    "plt.legend()\n",
    "\n",
    "plt.subplot(1, 2, 2)\n",
    "plt.plot(history.history['loss'], label='Train')\n",
    "plt.plot(history.history['val_loss'], label='Validation')\n",
    "plt.title('Model Loss')\n",
    "plt.xlabel('Epoch')\n",
    "plt.ylabel('Loss')\n",
    "plt.legend()\n",
    "\n",
    "plt.show()"
   ]
  },
  {
   "cell_type": "code",
   "execution_count": 12,
   "id": "4e3337dd",
   "metadata": {
    "execution": {
     "iopub.execute_input": "2024-11-25T01:28:17.600242Z",
     "iopub.status.busy": "2024-11-25T01:28:17.599012Z",
     "iopub.status.idle": "2024-11-25T01:28:52.647154Z",
     "shell.execute_reply": "2024-11-25T01:28:52.645905Z"
    },
    "papermill": {
     "duration": 35.067323,
     "end_time": "2024-11-25T01:28:52.649692",
     "exception": false,
     "start_time": "2024-11-25T01:28:17.582369",
     "status": "completed"
    },
    "tags": []
   },
   "outputs": [
    {
     "name": "stdout",
     "output_type": "stream",
     "text": [
      "5/5 [==============================] - 35s 7s/step - loss: 0.7820 - accuracy: 0.4306\n",
      "Test accuracy: 0.4305555522441864\n",
      "Test loss: 0.7819926738739014\n"
     ]
    }
   ],
   "source": [
    "test_loss, test_acc = model_vgg.evaluate(X_test, y_test)\n",
    "print(\"Test accuracy:\", test_acc)\n",
    "print(\"Test loss:\", test_loss)"
   ]
  },
  {
   "cell_type": "code",
   "execution_count": 13,
   "id": "9b86828c",
   "metadata": {
    "execution": {
     "iopub.execute_input": "2024-11-25T01:28:52.683810Z",
     "iopub.status.busy": "2024-11-25T01:28:52.683005Z",
     "iopub.status.idle": "2024-11-25T01:28:53.189809Z",
     "shell.execute_reply": "2024-11-25T01:28:53.188536Z"
    },
    "papermill": {
     "duration": 0.526649,
     "end_time": "2024-11-25T01:28:53.192226",
     "exception": false,
     "start_time": "2024-11-25T01:28:52.665577",
     "status": "completed"
    },
    "tags": []
   },
   "outputs": [
    {
     "name": "stdout",
     "output_type": "stream",
     "text": [
      "1/1 [==============================] - 0s 418ms/step\n",
      "The signature is forged.\n"
     ]
    }
   ],
   "source": [
    "# Cargar una imagen de firma\n",
    "# Puedes cambiar la ruta de la imagen y comprobar si es falsa o real.\n",
    "img = cv2.imread('/kaggle/input/stcet-teachers-signature/dataset/orininal dataset/agh1_1.jpg', cv2.IMREAD_GRAYSCALE)\n",
    "img = cv2.resize(img, img_size)\n",
    "img = np.expand_dims(img, axis=-1)  # Añadir un canal (grayscale)\n",
    "img = np.repeat(img, 3, axis=-1)  # Convertir a RGB\n",
    "img = np.expand_dims(img, axis=0)  # Añadir dimensión batch\n",
    "img = img.astype('float32') / 255.0  # Normalizar\n",
    "\n",
    "# Predecir la clase de la imagen de la firma.\n",
    "prediction = model_vgg.predict(img)\n",
    "\n",
    "if prediction < 0.5:\n",
    "    print(\"The signature is real.\")\n",
    "else:\n",
    "    print(\"The signature is forged.\")"
   ]
  }
 ],
 "metadata": {
  "kaggle": {
   "accelerator": "none",
   "dataSources": [
    {
     "datasetId": 57273,
     "sourceId": 168063,
     "sourceType": "datasetVersion"
    },
    {
     "datasetId": 3156212,
     "sourceId": 5463576,
     "sourceType": "datasetVersion"
    }
   ],
   "dockerImageVersionId": 30458,
   "isGpuEnabled": false,
   "isInternetEnabled": true,
   "language": "python",
   "sourceType": "notebook"
  },
  "kernelspec": {
   "display_name": "Python 3",
   "language": "python",
   "name": "python3"
  },
  "language_info": {
   "codemirror_mode": {
    "name": "ipython",
    "version": 3
   },
   "file_extension": ".py",
   "mimetype": "text/x-python",
   "name": "python",
   "nbconvert_exporter": "python",
   "pygments_lexer": "ipython3",
   "version": "3.7.12"
  },
  "papermill": {
   "default_parameters": {},
   "duration": 1645.34633,
   "end_time": "2024-11-25T01:28:56.628313",
   "environment_variables": {},
   "exception": null,
   "input_path": "__notebook__.ipynb",
   "output_path": "__notebook__.ipynb",
   "parameters": {},
   "start_time": "2024-11-25T01:01:31.281983",
   "version": "2.4.0"
  }
 },
 "nbformat": 4,
 "nbformat_minor": 5
}
